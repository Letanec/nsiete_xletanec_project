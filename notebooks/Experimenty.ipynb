{
 "cells": [
  {
   "cell_type": "code",
   "execution_count": 9,
   "metadata": {},
   "outputs": [
    {
     "name": "stdout",
     "output_type": "stream",
     "text": [
      "The autoreload extension is already loaded. To reload it, use:\n",
      "  %reload_ext autoreload\n",
      "The tensorboard extension is already loaded. To reload it, use:\n",
      "  %reload_ext tensorboard\n"
     ]
    },
    {
     "data": {
      "text/plain": [
       "Reusing TensorBoard on port 6006 (pid 33), started 1:45:45 ago. (Use '!kill 33' to kill it.)"
      ]
     },
     "metadata": {},
     "output_type": "display_data"
    },
    {
     "data": {
      "text/html": [
       "\n",
       "      <iframe id=\"tensorboard-frame-96b8146eccb86928\" width=\"100%\" height=\"800\" frameborder=\"0\">\n",
       "      </iframe>\n",
       "      <script>\n",
       "        (function() {\n",
       "          const frame = document.getElementById(\"tensorboard-frame-96b8146eccb86928\");\n",
       "          const url = new URL(\"/\", window.location);\n",
       "          url.port = 6006;\n",
       "          frame.src = url;\n",
       "        })();\n",
       "      </script>\n",
       "  "
      ],
      "text/plain": [
       "<IPython.core.display.HTML object>"
      ]
     },
     "metadata": {},
     "output_type": "display_data"
    }
   ],
   "source": [
    "%load_ext autoreload\n",
    "%autoreload 2\n",
    "\n",
    "%matplotlib notebook\n",
    "\n",
    "%load_ext tensorboard\n",
    "%tensorboard --logdir logs --bind_all\n",
    "import os\n",
    "import sys\n",
    "sys.path.append('..')"
   ]
  },
  {
   "cell_type": "markdown",
   "metadata": {},
   "source": [
    "# Experimenty"
   ]
  },
  {
   "cell_type": "markdown",
   "metadata": {},
   "source": [
    "## Trénovacia rutina"
   ]
  },
  {
   "cell_type": "markdown",
   "metadata": {},
   "source": [
    "Svoj model som trénoval na vlastom PC využitím docker kontajnera tensorflow/tensorflow:2.0.0-gpu-py3.\n",
    "    \n",
    "Trénovací dataset obsahoval 30000 záznamov a testovací 100000. Trénovať som začal na 5 epochách s tým, že trénovanie som zastavil pokiaľ sa 2 krát za sebou hodnota val_accuracy znížila. Toto sa stalo vždy do 5 epoch, takže som ich počet nezvýšil. "
   ]
  },
  {
   "cell_type": "markdown",
   "metadata": {},
   "source": [
    "## Experiment 1 - Baseline"
   ]
  },
  {
   "cell_type": "markdown",
   "metadata": {},
   "source": [
    "Baseline model som testoval na datasete, ktorý ešte nebol kompletne predspracovaný. Bolo odstránené tagovanie a linky. Baseline model som vytvoril na základe úlohy z cvičenia 8. Výsledky testovania baseline prototypu sú dostupné v grafe na hore. Baseline model sa dokázal učiť, čo dokazovali hodnoty val_accuracy okolo 0.72 ale zároveň nastával over-fitting a hodnoty sa v ďaľších etapách začali znižovať."
   ]
  },
  {
   "cell_type": "markdown",
   "metadata": {},
   "source": [
    "## Experiment 2 - Vyladenie datasetu"
   ]
  },
  {
   "cell_type": "markdown",
   "metadata": {},
   "source": [
    "V ďaľšom kroku som sa pokúsil vyladiť predspracovanie datasetu. Upravil som ho tak, ako je to popísané v Dátovej analýze. Po týchto úpravách modelu vyskočia val_accuracy na približne 0.75 ale stále nastával problém s over-fittingom."
   ]
  },
  {
   "cell_type": "markdown",
   "metadata": {},
   "source": [
    "## Experiment 3 - Pridanie ďaľších vrstiev"
   ]
  },
  {
   "cell_type": "markdown",
   "metadata": {},
   "source": [
    "Ďalej som sa pri úpravách modelu inšpiroval prácou Emotion Recognition utilizing Neural Networks and Multi-level Preprocessing \n",
    "[1]. Pokúsil upraviť výstupnú dimenziu Embedding Layeru zo 64 na 300, pridať druhú LSTM vrstvu typu m2m. Toto nemalo veľký vplyv na výslednú presnosť. Až po pridaní Dropout Layeru a Gaussian Noise Layeru za Embedding vrstu a Dropout Layeru za LSTM vrstvy sa mi podarilo zmenšiť problém s over-fittingom, kedy v druhej epoche presnosť stúpla aj keď v ďalších epochách znova klesla. Po úprave parametrov dropout a gaussian noise vrstiev sa over-fitting prejavil až od 4. epochy."
   ]
  },
  {
   "cell_type": "markdown",
   "metadata": {},
   "source": [
    "## Experiment 4 - Pokus o pridanie predtrénovaných embeddingov"
   ]
  },
  {
   "cell_type": "markdown",
   "metadata": {},
   "source": [
    "Nakoniec som sa pokúsil pridať predtrénované embeddingy do embedding layeru. To sa však nepodarilo a docker prostredie (nie jupyter notebook) proces zabilo na začiatku prvej epochy, bez vypísania chyby. Z časových dôvodov sa mi problém už nepodarilo vyriešiť."
   ]
  },
  {
   "cell_type": "markdown",
   "metadata": {},
   "source": [
    "## Výsledky"
   ]
  },
  {
   "cell_type": "markdown",
   "metadata": {},
   "source": [
    "Podarilo sa mi vytvoriť model, ktorý sa dokáže učiť. Najlepšia dosiahnutá hodnota val_accuracy bola 0.7615. Počas experimentovania bol môj najväčší problém over-fitting hneď po prvej epoche, ktorý sa mi čiastočne podarilo vyriešiť pridaním Dropout a Gaussian Noise Layeru a úpravou ich parametrov. Model sa potom dokázal zlepšovať prvé 3 epochy."
   ]
  },
  {
   "cell_type": "markdown",
   "metadata": {},
   "source": [
    "## Zdroje"
   ]
  },
  {
   "cell_type": "markdown",
   "metadata": {},
   "source": [
    "[1] https://www.aclweb.org/anthology/W18-6231/"
   ]
  },
  {
   "cell_type": "code",
   "execution_count": null,
   "metadata": {},
   "outputs": [],
   "source": []
  }
 ],
 "metadata": {
  "kernelspec": {
   "display_name": "Python 3",
   "language": "python",
   "name": "python3"
  },
  "language_info": {
   "codemirror_mode": {
    "name": "ipython",
    "version": 3
   },
   "file_extension": ".py",
   "mimetype": "text/x-python",
   "name": "python",
   "nbconvert_exporter": "python",
   "pygments_lexer": "ipython3",
   "version": "3.6.8"
  }
 },
 "nbformat": 4,
 "nbformat_minor": 2
}
