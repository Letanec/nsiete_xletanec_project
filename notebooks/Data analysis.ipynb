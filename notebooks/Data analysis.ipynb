{
 "cells": [
  {
   "cell_type": "markdown",
   "metadata": {},
   "source": [
    "# Dátová analýza"
   ]
  },
  {
   "cell_type": "code",
   "execution_count": 1,
   "metadata": {},
   "outputs": [],
   "source": [
    "import pandas as pd\n",
    "import numpy as np\n",
    "import matplotlib\n",
    "import re\n",
    "from collections import Counter\n",
    "\n",
    "pd.set_option('float_format', '{:f}'.format)"
   ]
  },
  {
   "cell_type": "code",
   "execution_count": 2,
   "metadata": {},
   "outputs": [],
   "source": [
    "colnames = ['sent', 'id', 'date', 'query', 'name', 'tweet']\n",
    "data = pd.read_csv('../data/raw/data.csv', encoding=\"ISO-8859-1\", names=colnames, delimiter=',')"
   ]
  },
  {
   "cell_type": "markdown",
   "metadata": {},
   "source": [
    "## Ukážka pôvodného datasetu"
   ]
  },
  {
   "cell_type": "code",
   "execution_count": 3,
   "metadata": {},
   "outputs": [
    {
     "data": {
      "text/html": [
       "<div>\n",
       "<style scoped>\n",
       "    .dataframe tbody tr th:only-of-type {\n",
       "        vertical-align: middle;\n",
       "    }\n",
       "\n",
       "    .dataframe tbody tr th {\n",
       "        vertical-align: top;\n",
       "    }\n",
       "\n",
       "    .dataframe thead th {\n",
       "        text-align: right;\n",
       "    }\n",
       "</style>\n",
       "<table border=\"1\" class=\"dataframe\">\n",
       "  <thead>\n",
       "    <tr style=\"text-align: right;\">\n",
       "      <th></th>\n",
       "      <th>sent</th>\n",
       "      <th>id</th>\n",
       "      <th>date</th>\n",
       "      <th>query</th>\n",
       "      <th>name</th>\n",
       "      <th>tweet</th>\n",
       "    </tr>\n",
       "  </thead>\n",
       "  <tbody>\n",
       "    <tr>\n",
       "      <th>0</th>\n",
       "      <td>0</td>\n",
       "      <td>1467810369</td>\n",
       "      <td>Mon Apr 06 22:19:45 PDT 2009</td>\n",
       "      <td>NO_QUERY</td>\n",
       "      <td>_TheSpecialOne_</td>\n",
       "      <td>@switchfoot http://twitpic.com/2y1zl - Awww, t...</td>\n",
       "    </tr>\n",
       "    <tr>\n",
       "      <th>1</th>\n",
       "      <td>0</td>\n",
       "      <td>1467810672</td>\n",
       "      <td>Mon Apr 06 22:19:49 PDT 2009</td>\n",
       "      <td>NO_QUERY</td>\n",
       "      <td>scotthamilton</td>\n",
       "      <td>is upset that he can't update his Facebook by ...</td>\n",
       "    </tr>\n",
       "    <tr>\n",
       "      <th>2</th>\n",
       "      <td>0</td>\n",
       "      <td>1467810917</td>\n",
       "      <td>Mon Apr 06 22:19:53 PDT 2009</td>\n",
       "      <td>NO_QUERY</td>\n",
       "      <td>mattycus</td>\n",
       "      <td>@Kenichan I dived many times for the ball. Man...</td>\n",
       "    </tr>\n",
       "    <tr>\n",
       "      <th>3</th>\n",
       "      <td>0</td>\n",
       "      <td>1467811184</td>\n",
       "      <td>Mon Apr 06 22:19:57 PDT 2009</td>\n",
       "      <td>NO_QUERY</td>\n",
       "      <td>ElleCTF</td>\n",
       "      <td>my whole body feels itchy and like its on fire</td>\n",
       "    </tr>\n",
       "    <tr>\n",
       "      <th>4</th>\n",
       "      <td>0</td>\n",
       "      <td>1467811193</td>\n",
       "      <td>Mon Apr 06 22:19:57 PDT 2009</td>\n",
       "      <td>NO_QUERY</td>\n",
       "      <td>Karoli</td>\n",
       "      <td>@nationwideclass no, it's not behaving at all....</td>\n",
       "    </tr>\n",
       "  </tbody>\n",
       "</table>\n",
       "</div>"
      ],
      "text/plain": [
       "   sent          id                          date     query             name  \\\n",
       "0     0  1467810369  Mon Apr 06 22:19:45 PDT 2009  NO_QUERY  _TheSpecialOne_   \n",
       "1     0  1467810672  Mon Apr 06 22:19:49 PDT 2009  NO_QUERY    scotthamilton   \n",
       "2     0  1467810917  Mon Apr 06 22:19:53 PDT 2009  NO_QUERY         mattycus   \n",
       "3     0  1467811184  Mon Apr 06 22:19:57 PDT 2009  NO_QUERY          ElleCTF   \n",
       "4     0  1467811193  Mon Apr 06 22:19:57 PDT 2009  NO_QUERY           Karoli   \n",
       "\n",
       "                                               tweet  \n",
       "0  @switchfoot http://twitpic.com/2y1zl - Awww, t...  \n",
       "1  is upset that he can't update his Facebook by ...  \n",
       "2  @Kenichan I dived many times for the ball. Man...  \n",
       "3    my whole body feels itchy and like its on fire   \n",
       "4  @nationwideclass no, it's not behaving at all....  "
      ]
     },
     "execution_count": 3,
     "metadata": {},
     "output_type": "execute_result"
    }
   ],
   "source": [
    "data.head()"
   ]
  },
  {
   "cell_type": "markdown",
   "metadata": {},
   "source": [
    "Dataset má 1600000 záznamov a 6 stĺpcov. Hodnota sentimentu, id záznamu, dátum tweetu, query, meno autora, a tweet."
   ]
  },
  {
   "cell_type": "code",
   "execution_count": 4,
   "metadata": {},
   "outputs": [
    {
     "data": {
      "text/plain": [
       "(1600000, 6)"
      ]
     },
     "execution_count": 4,
     "metadata": {},
     "output_type": "execute_result"
    }
   ],
   "source": [
    "np.shape(data)"
   ]
  },
  {
   "cell_type": "markdown",
   "metadata": {},
   "source": [
    "## Analýza stĺpca sentiment"
   ]
  },
  {
   "cell_type": "code",
   "execution_count": 5,
   "metadata": {},
   "outputs": [
    {
     "data": {
      "text/plain": [
       "count   1600000.000000\n",
       "mean          2.000000\n",
       "std           2.000001\n",
       "min           0.000000\n",
       "25%           0.000000\n",
       "50%           2.000000\n",
       "75%           4.000000\n",
       "max           4.000000\n",
       "Name: sent, dtype: float64"
      ]
     },
     "execution_count": 5,
     "metadata": {},
     "output_type": "execute_result"
    }
   ],
   "source": [
    "data['sent'].describe()"
   ]
  },
  {
   "cell_type": "markdown",
   "metadata": {},
   "source": [
    "Stĺpec sent má len 2 hodnoty. 0 - negatívny sentiment a 4 - pozitívny sentiment."
   ]
  },
  {
   "cell_type": "code",
   "execution_count": 6,
   "metadata": {},
   "outputs": [
    {
     "data": {
      "text/plain": [
       "array([0, 4])"
      ]
     },
     "execution_count": 6,
     "metadata": {},
     "output_type": "execute_result"
    }
   ],
   "source": [
    "data['sent'].unique()"
   ]
  },
  {
   "cell_type": "markdown",
   "metadata": {},
   "source": [
    "## Analýza stĺpca id"
   ]
  },
  {
   "cell_type": "code",
   "execution_count": 7,
   "metadata": {},
   "outputs": [
    {
     "data": {
      "text/plain": [
       "count      1600000.000000\n",
       "mean    1998817552.295628\n",
       "std      193576073.622676\n",
       "min     1467810369.000000\n",
       "25%     1956915818.000000\n",
       "50%     2002101855.000000\n",
       "75%     2177059128.750000\n",
       "max     2329205794.000000\n",
       "Name: id, dtype: float64"
      ]
     },
     "execution_count": 7,
     "metadata": {},
     "output_type": "execute_result"
    }
   ],
   "source": [
    "data['id'].describe()"
   ]
  },
  {
   "cell_type": "markdown",
   "metadata": {},
   "source": [
    "## Analýza stĺpca dátum"
   ]
  },
  {
   "cell_type": "code",
   "execution_count": 8,
   "metadata": {},
   "outputs": [
    {
     "data": {
      "text/plain": [
       "count                          1600000\n",
       "unique                          774363\n",
       "top       Mon Jun 15 12:53:14 PDT 2009\n",
       "freq                                20\n",
       "Name: date, dtype: object"
      ]
     },
     "execution_count": 8,
     "metadata": {},
     "output_type": "execute_result"
    }
   ],
   "source": [
    "data['date'].describe()"
   ]
  },
  {
   "cell_type": "markdown",
   "metadata": {},
   "source": [
    "## Analýza stĺpca query"
   ]
  },
  {
   "cell_type": "code",
   "execution_count": 9,
   "metadata": {},
   "outputs": [
    {
     "data": {
      "text/plain": [
       "count      1600000\n",
       "unique           1\n",
       "top       NO_QUERY\n",
       "freq       1600000\n",
       "Name: query, dtype: object"
      ]
     },
     "execution_count": 9,
     "metadata": {},
     "output_type": "execute_result"
    }
   ],
   "source": [
    "data['query'].describe()"
   ]
  },
  {
   "cell_type": "code",
   "execution_count": 10,
   "metadata": {},
   "outputs": [
    {
     "data": {
      "text/plain": [
       "array(['NO_QUERY'], dtype=object)"
      ]
     },
     "execution_count": 10,
     "metadata": {},
     "output_type": "execute_result"
    }
   ],
   "source": [
    "data['query'].unique()"
   ]
  },
  {
   "cell_type": "markdown",
   "metadata": {},
   "source": [
    "## Analýza stĺpca meno"
   ]
  },
  {
   "cell_type": "code",
   "execution_count": 11,
   "metadata": {},
   "outputs": [
    {
     "data": {
      "text/plain": [
       "count      1600000\n",
       "unique      659775\n",
       "top       lost_dog\n",
       "freq           549\n",
       "Name: name, dtype: object"
      ]
     },
     "execution_count": 11,
     "metadata": {},
     "output_type": "execute_result"
    }
   ],
   "source": [
    "data['name'].describe()"
   ]
  },
  {
   "cell_type": "markdown",
   "metadata": {},
   "source": [
    "## Analýza stĺpca tweet"
   ]
  },
  {
   "cell_type": "code",
   "execution_count": 12,
   "metadata": {},
   "outputs": [
    {
     "data": {
      "text/plain": [
       "count                       1600000\n",
       "unique                      1581466\n",
       "top       isPlayer Has Died! Sorry \n",
       "freq                            210\n",
       "Name: tweet, dtype: object"
      ]
     },
     "execution_count": 12,
     "metadata": {},
     "output_type": "execute_result"
    }
   ],
   "source": [
    "data['tweet'].describe()"
   ]
  },
  {
   "cell_type": "code",
   "execution_count": 6,
   "metadata": {},
   "outputs": [],
   "source": [
    "data['word_count'] = data['tweet'].str.split().str.len()"
   ]
  },
  {
   "cell_type": "markdown",
   "metadata": {},
   "source": [
    "### Štatistika počtu slov "
   ]
  },
  {
   "cell_type": "code",
   "execution_count": 14,
   "metadata": {},
   "outputs": [
    {
     "data": {
      "text/plain": [
       "count   1600000.000000\n",
       "mean         13.176151\n",
       "std           6.957978\n",
       "min           1.000000\n",
       "25%           7.000000\n",
       "50%          12.000000\n",
       "75%          19.000000\n",
       "max          64.000000\n",
       "Name: word_count, dtype: float64"
      ]
     },
     "execution_count": 14,
     "metadata": {},
     "output_type": "execute_result"
    }
   ],
   "source": [
    "data['word_count'].describe()"
   ]
  },
  {
   "cell_type": "code",
   "execution_count": 7,
   "metadata": {},
   "outputs": [],
   "source": [
    "data['words'] = data['tweet'].str.split()"
   ]
  },
  {
   "cell_type": "code",
   "execution_count": 16,
   "metadata": {},
   "outputs": [
    {
     "data": {
      "text/plain": [
       "0          [@switchfoot, http://twitpic.com/2y1zl, -, Aww...\n",
       "1          [is, upset, that, he, can't, update, his, Face...\n",
       "2          [@Kenichan, I, dived, many, times, for, the, b...\n",
       "3          [my, whole, body, feels, itchy, and, like, its...\n",
       "4          [@nationwideclass, no,, it's, not, behaving, a...\n",
       "                                 ...                        \n",
       "1599995    [Just, woke, up., Having, no, school, is, the,...\n",
       "1599996    [TheWDB.com, -, Very, cool, to, hear, old, Wal...\n",
       "1599997    [Are, you, ready, for, your, MoJo, Makeover?, ...\n",
       "1599998    [Happy, 38th, Birthday, to, my, boo, of, alll,...\n",
       "1599999    [happy, #charitytuesday, @theNSPCC, @SparksCha...\n",
       "Name: words, Length: 1600000, dtype: object"
      ]
     },
     "execution_count": 16,
     "metadata": {},
     "output_type": "execute_result"
    }
   ],
   "source": [
    "data['words']"
   ]
  },
  {
   "cell_type": "markdown",
   "metadata": {},
   "source": [
    "### Najbežnejšie slová pre negatívny sentiment"
   ]
  },
  {
   "cell_type": "code",
   "execution_count": 3,
   "metadata": {},
   "outputs": [
    {
     "data": {
      "text/plain": [
       "[('the', 257869),\n",
       " ('and', 153968),\n",
       " ('you', 103842),\n",
       " ('for', 98986),\n",
       " ('but', 84912),\n",
       " ('have', 82867),\n",
       " ('that', 82821),\n",
       " ('not', 75051),\n",
       " ('just', 64013),\n",
       " ('was', 59292),\n",
       " ('this', 52994),\n",
       " ('now', 52613),\n",
       " ('can', 52141),\n",
       " ('with', 50153),\n",
       " ('get', 45542),\n",
       " ('work', 45455),\n",
       " ('out', 43858),\n",
       " ('all', 42147),\n",
       " ('like', 41048),\n",
       " ('day', 39858),\n",
       " ('today', 38115),\n",
       " ('too', 37551),\n",
       " ('are', 34021),\n",
       " ('going', 33685),\n",
       " ('got', 33289),\n",
       " ('back', 33076),\n",
       " ('don', 32837),\n",
       " ('really', 31497),\n",
       " ('miss', 30712),\n",
       " ('want', 29864),\n",
       " ('what', 29314),\n",
       " ('still', 29264),\n",
       " ('good', 29207),\n",
       " ('from', 28017),\n",
       " ('sad', 27917),\n",
       " ('had', 27802),\n",
       " ('time', 27516),\n",
       " ('one', 27257),\n",
       " ('know', 26310),\n",
       " ('quot', 26176),\n",
       " ('about', 26170),\n",
       " ('its', 25523),\n",
       " ('they', 25023),\n",
       " ('home', 24560),\n",
       " ('http', 24360),\n",
       " ('there', 23909),\n",
       " ('lol', 23135),\n",
       " ('will', 22947),\n",
       " ('amp', 22486),\n",
       " ('last', 22462),\n",
       " ('wish', 22461),\n",
       " ('when', 22338),\n",
       " ('need', 22299),\n",
       " ('feel', 21957),\n",
       " ('think', 21877),\n",
       " ('bad', 21721),\n",
       " ('why', 21055),\n",
       " ('has', 21008),\n",
       " ('sorry', 20986),\n",
       " ('your', 20914),\n",
       " ('how', 20782),\n",
       " ('see', 20554),\n",
       " ('been', 20245),\n",
       " ('night', 20028),\n",
       " ('much', 20008),\n",
       " ('here', 19673),\n",
       " ('well', 19483),\n",
       " ('off', 19393),\n",
       " ('tomorrow', 19241),\n",
       " ('some', 19008),\n",
       " ('more', 18842),\n",
       " ('sleep', 18444),\n",
       " ('again', 18380),\n",
       " ('only', 17607),\n",
       " ('her', 17581),\n",
       " ('hate', 17206),\n",
       " ('com', 17163),\n",
       " ('she', 16991),\n",
       " ('love', 16990),\n",
       " ('new', 15509),\n",
       " ('then', 15268),\n",
       " ('didn', 15093),\n",
       " ('right', 15068),\n",
       " ('though', 14799),\n",
       " ('hope', 14679),\n",
       " ('sick', 14616),\n",
       " ('over', 14026),\n",
       " ('would', 14006),\n",
       " ('could', 13836),\n",
       " ('morning', 13768),\n",
       " ('getting', 13520),\n",
       " ('twitter', 13476),\n",
       " ('tonight', 13419),\n",
       " ('did', 13275),\n",
       " ('gonna', 13172),\n",
       " ('very', 12958),\n",
       " ('come', 12932),\n",
       " ('school', 12885),\n",
       " ('dont', 12764),\n",
       " ('them', 12616)]"
      ]
     },
     "execution_count": 3,
     "metadata": {},
     "output_type": "execute_result"
    }
   ],
   "source": [
    "Counter(re.findall('\\w{3,}',' '.join(data['tweet'].head(800000)).lower())).most_common(100)"
   ]
  },
  {
   "cell_type": "markdown",
   "metadata": {},
   "source": [
    "### Najbežnejšie slová pre pozitívny sentiment"
   ]
  },
  {
   "cell_type": "code",
   "execution_count": 4,
   "metadata": {},
   "outputs": [
    {
     "data": {
      "text/plain": [
       "[('the', 266003),\n",
       " ('you', 198194),\n",
       " ('and', 149635),\n",
       " ('for', 117362),\n",
       " ('that', 83089),\n",
       " ('with', 65177),\n",
       " ('just', 62946),\n",
       " ('have', 62744),\n",
       " ('good', 62121),\n",
       " ('but', 48600),\n",
       " ('love', 47696),\n",
       " ('http', 47217),\n",
       " ('day', 47200),\n",
       " ('quot', 45931),\n",
       " ('was', 45359),\n",
       " ('your', 44558),\n",
       " ('are', 44072),\n",
       " ('this', 41566),\n",
       " ('all', 41416),\n",
       " ('now', 41375),\n",
       " ('can', 41351),\n",
       " ('out', 38381),\n",
       " ('like', 37519),\n",
       " ('get', 36502),\n",
       " ('lol', 36134),\n",
       " ('com', 35464),\n",
       " ('thanks', 34526),\n",
       " ('not', 33638),\n",
       " ('going', 30932),\n",
       " ('time', 30429),\n",
       " ('today', 30095),\n",
       " ('what', 30035),\n",
       " ('will', 29478),\n",
       " ('too', 28227),\n",
       " ('from', 28158),\n",
       " ('got', 28007),\n",
       " ('new', 26952),\n",
       " ('one', 26675),\n",
       " ('some', 26600),\n",
       " ('amp', 26288),\n",
       " ('see', 25806),\n",
       " ('know', 25733),\n",
       " ('great', 25309),\n",
       " ('about', 24334),\n",
       " ('back', 23858),\n",
       " ('night', 23563),\n",
       " ('how', 23390),\n",
       " ('well', 23294),\n",
       " ('haha', 21667),\n",
       " ('there', 21327),\n",
       " ('morning', 20832),\n",
       " ('happy', 20533),\n",
       " ('had', 20336),\n",
       " ('twitter', 19911),\n",
       " ('work', 19545),\n",
       " ('think', 19525),\n",
       " ('then', 19367),\n",
       " ('its', 19221),\n",
       " ('hope', 19213),\n",
       " ('more', 19034),\n",
       " ('really', 18529),\n",
       " ('fun', 18515),\n",
       " ('they', 18340),\n",
       " ('here', 18087),\n",
       " ('off', 17682),\n",
       " ('don', 17172),\n",
       " ('when', 17123),\n",
       " ('much', 17020),\n",
       " ('nice', 16972),\n",
       " ('home', 15975),\n",
       " ('thank', 15823),\n",
       " ('tomorrow', 14871),\n",
       " ('bit', 14689),\n",
       " ('awesome', 14466),\n",
       " ('watching', 14379),\n",
       " ('still', 14300),\n",
       " ('twitpic', 14074),\n",
       " ('wait', 14056),\n",
       " ('hey', 14056),\n",
       " ('very', 13928),\n",
       " ('need', 13665),\n",
       " ('her', 13551),\n",
       " ('been', 13399),\n",
       " ('would', 13321),\n",
       " ('last', 13292),\n",
       " ('should', 13176),\n",
       " ('right', 12809),\n",
       " ('yes', 12804),\n",
       " ('yeah', 12748),\n",
       " ('make', 12660),\n",
       " ('she', 12642),\n",
       " ('way', 12641),\n",
       " ('again', 12601),\n",
       " ('tonight', 12591),\n",
       " ('better', 12475),\n",
       " ('want', 12430),\n",
       " ('did', 12379),\n",
       " ('come', 12169),\n",
       " ('them', 12148),\n",
       " ('has', 11995)]"
      ]
     },
     "execution_count": 4,
     "metadata": {},
     "output_type": "execute_result"
    }
   ],
   "source": [
    "Counter(re.findall('\\w{3,}',' '.join(data['tweet'].tail(800000)).lower())).most_common(100)"
   ]
  },
  {
   "cell_type": "code",
   "execution_count": 8,
   "metadata": {},
   "outputs": [
    {
     "data": {
      "text/html": [
       "<div>\n",
       "<style scoped>\n",
       "    .dataframe tbody tr th:only-of-type {\n",
       "        vertical-align: middle;\n",
       "    }\n",
       "\n",
       "    .dataframe tbody tr th {\n",
       "        vertical-align: top;\n",
       "    }\n",
       "\n",
       "    .dataframe thead th {\n",
       "        text-align: right;\n",
       "    }\n",
       "</style>\n",
       "<table border=\"1\" class=\"dataframe\">\n",
       "  <thead>\n",
       "    <tr style=\"text-align: right;\">\n",
       "      <th></th>\n",
       "      <th>sent</th>\n",
       "      <th>id</th>\n",
       "      <th>date</th>\n",
       "      <th>query</th>\n",
       "      <th>name</th>\n",
       "      <th>tweet</th>\n",
       "      <th>word_count</th>\n",
       "      <th>words</th>\n",
       "    </tr>\n",
       "  </thead>\n",
       "  <tbody>\n",
       "    <tr>\n",
       "      <th>0</th>\n",
       "      <td>0</td>\n",
       "      <td>1467810369</td>\n",
       "      <td>Mon Apr 06 22:19:45 PDT 2009</td>\n",
       "      <td>NO_QUERY</td>\n",
       "      <td>_TheSpecialOne_</td>\n",
       "      <td>@switchfoot http://twitpic.com/2y1zl - Awww, t...</td>\n",
       "      <td>19</td>\n",
       "      <td>[@switchfoot, http://twitpic.com/2y1zl, -, Aww...</td>\n",
       "    </tr>\n",
       "    <tr>\n",
       "      <th>1</th>\n",
       "      <td>0</td>\n",
       "      <td>1467810672</td>\n",
       "      <td>Mon Apr 06 22:19:49 PDT 2009</td>\n",
       "      <td>NO_QUERY</td>\n",
       "      <td>scotthamilton</td>\n",
       "      <td>is upset that he can't update his Facebook by ...</td>\n",
       "      <td>21</td>\n",
       "      <td>[is, upset, that, he, can't, update, his, Face...</td>\n",
       "    </tr>\n",
       "    <tr>\n",
       "      <th>2</th>\n",
       "      <td>0</td>\n",
       "      <td>1467810917</td>\n",
       "      <td>Mon Apr 06 22:19:53 PDT 2009</td>\n",
       "      <td>NO_QUERY</td>\n",
       "      <td>mattycus</td>\n",
       "      <td>@Kenichan I dived many times for the ball. Man...</td>\n",
       "      <td>18</td>\n",
       "      <td>[@Kenichan, I, dived, many, times, for, the, b...</td>\n",
       "    </tr>\n",
       "    <tr>\n",
       "      <th>3</th>\n",
       "      <td>0</td>\n",
       "      <td>1467811184</td>\n",
       "      <td>Mon Apr 06 22:19:57 PDT 2009</td>\n",
       "      <td>NO_QUERY</td>\n",
       "      <td>ElleCTF</td>\n",
       "      <td>my whole body feels itchy and like its on fire</td>\n",
       "      <td>10</td>\n",
       "      <td>[my, whole, body, feels, itchy, and, like, its...</td>\n",
       "    </tr>\n",
       "    <tr>\n",
       "      <th>4</th>\n",
       "      <td>0</td>\n",
       "      <td>1467811193</td>\n",
       "      <td>Mon Apr 06 22:19:57 PDT 2009</td>\n",
       "      <td>NO_QUERY</td>\n",
       "      <td>Karoli</td>\n",
       "      <td>@nationwideclass no, it's not behaving at all....</td>\n",
       "      <td>21</td>\n",
       "      <td>[@nationwideclass, no,, it's, not, behaving, a...</td>\n",
       "    </tr>\n",
       "    <tr>\n",
       "      <th>...</th>\n",
       "      <td>...</td>\n",
       "      <td>...</td>\n",
       "      <td>...</td>\n",
       "      <td>...</td>\n",
       "      <td>...</td>\n",
       "      <td>...</td>\n",
       "      <td>...</td>\n",
       "      <td>...</td>\n",
       "    </tr>\n",
       "    <tr>\n",
       "      <th>1599995</th>\n",
       "      <td>4</td>\n",
       "      <td>2193601966</td>\n",
       "      <td>Tue Jun 16 08:40:49 PDT 2009</td>\n",
       "      <td>NO_QUERY</td>\n",
       "      <td>AmandaMarie1028</td>\n",
       "      <td>Just woke up. Having no school is the best fee...</td>\n",
       "      <td>11</td>\n",
       "      <td>[Just, woke, up., Having, no, school, is, the,...</td>\n",
       "    </tr>\n",
       "    <tr>\n",
       "      <th>1599996</th>\n",
       "      <td>4</td>\n",
       "      <td>2193601969</td>\n",
       "      <td>Tue Jun 16 08:40:49 PDT 2009</td>\n",
       "      <td>NO_QUERY</td>\n",
       "      <td>TheWDBoards</td>\n",
       "      <td>TheWDB.com - Very cool to hear old Walt interv...</td>\n",
       "      <td>11</td>\n",
       "      <td>[TheWDB.com, -, Very, cool, to, hear, old, Wal...</td>\n",
       "    </tr>\n",
       "    <tr>\n",
       "      <th>1599997</th>\n",
       "      <td>4</td>\n",
       "      <td>2193601991</td>\n",
       "      <td>Tue Jun 16 08:40:49 PDT 2009</td>\n",
       "      <td>NO_QUERY</td>\n",
       "      <td>bpbabe</td>\n",
       "      <td>Are you ready for your MoJo Makeover? Ask me f...</td>\n",
       "      <td>11</td>\n",
       "      <td>[Are, you, ready, for, your, MoJo, Makeover?, ...</td>\n",
       "    </tr>\n",
       "    <tr>\n",
       "      <th>1599998</th>\n",
       "      <td>4</td>\n",
       "      <td>2193602064</td>\n",
       "      <td>Tue Jun 16 08:40:49 PDT 2009</td>\n",
       "      <td>NO_QUERY</td>\n",
       "      <td>tinydiamondz</td>\n",
       "      <td>Happy 38th Birthday to my boo of alll time!!! ...</td>\n",
       "      <td>12</td>\n",
       "      <td>[Happy, 38th, Birthday, to, my, boo, of, alll,...</td>\n",
       "    </tr>\n",
       "    <tr>\n",
       "      <th>1599999</th>\n",
       "      <td>4</td>\n",
       "      <td>2193602129</td>\n",
       "      <td>Tue Jun 16 08:40:50 PDT 2009</td>\n",
       "      <td>NO_QUERY</td>\n",
       "      <td>RyanTrevMorris</td>\n",
       "      <td>happy #charitytuesday @theNSPCC @SparksCharity...</td>\n",
       "      <td>5</td>\n",
       "      <td>[happy, #charitytuesday, @theNSPCC, @SparksCha...</td>\n",
       "    </tr>\n",
       "  </tbody>\n",
       "</table>\n",
       "<p>1600000 rows × 8 columns</p>\n",
       "</div>"
      ],
      "text/plain": [
       "         sent          id                          date     query  \\\n",
       "0           0  1467810369  Mon Apr 06 22:19:45 PDT 2009  NO_QUERY   \n",
       "1           0  1467810672  Mon Apr 06 22:19:49 PDT 2009  NO_QUERY   \n",
       "2           0  1467810917  Mon Apr 06 22:19:53 PDT 2009  NO_QUERY   \n",
       "3           0  1467811184  Mon Apr 06 22:19:57 PDT 2009  NO_QUERY   \n",
       "4           0  1467811193  Mon Apr 06 22:19:57 PDT 2009  NO_QUERY   \n",
       "...       ...         ...                           ...       ...   \n",
       "1599995     4  2193601966  Tue Jun 16 08:40:49 PDT 2009  NO_QUERY   \n",
       "1599996     4  2193601969  Tue Jun 16 08:40:49 PDT 2009  NO_QUERY   \n",
       "1599997     4  2193601991  Tue Jun 16 08:40:49 PDT 2009  NO_QUERY   \n",
       "1599998     4  2193602064  Tue Jun 16 08:40:49 PDT 2009  NO_QUERY   \n",
       "1599999     4  2193602129  Tue Jun 16 08:40:50 PDT 2009  NO_QUERY   \n",
       "\n",
       "                    name                                              tweet  \\\n",
       "0        _TheSpecialOne_  @switchfoot http://twitpic.com/2y1zl - Awww, t...   \n",
       "1          scotthamilton  is upset that he can't update his Facebook by ...   \n",
       "2               mattycus  @Kenichan I dived many times for the ball. Man...   \n",
       "3                ElleCTF    my whole body feels itchy and like its on fire    \n",
       "4                 Karoli  @nationwideclass no, it's not behaving at all....   \n",
       "...                  ...                                                ...   \n",
       "1599995  AmandaMarie1028  Just woke up. Having no school is the best fee...   \n",
       "1599996      TheWDBoards  TheWDB.com - Very cool to hear old Walt interv...   \n",
       "1599997           bpbabe  Are you ready for your MoJo Makeover? Ask me f...   \n",
       "1599998     tinydiamondz  Happy 38th Birthday to my boo of alll time!!! ...   \n",
       "1599999   RyanTrevMorris  happy #charitytuesday @theNSPCC @SparksCharity...   \n",
       "\n",
       "         word_count                                              words  \n",
       "0                19  [@switchfoot, http://twitpic.com/2y1zl, -, Aww...  \n",
       "1                21  [is, upset, that, he, can't, update, his, Face...  \n",
       "2                18  [@Kenichan, I, dived, many, times, for, the, b...  \n",
       "3                10  [my, whole, body, feels, itchy, and, like, its...  \n",
       "4                21  [@nationwideclass, no,, it's, not, behaving, a...  \n",
       "...             ...                                                ...  \n",
       "1599995          11  [Just, woke, up., Having, no, school, is, the,...  \n",
       "1599996          11  [TheWDB.com, -, Very, cool, to, hear, old, Wal...  \n",
       "1599997          11  [Are, you, ready, for, your, MoJo, Makeover?, ...  \n",
       "1599998          12  [Happy, 38th, Birthday, to, my, boo, of, alll,...  \n",
       "1599999           5  [happy, #charitytuesday, @theNSPCC, @SparksCha...  \n",
       "\n",
       "[1600000 rows x 8 columns]"
      ]
     },
     "execution_count": 8,
     "metadata": {},
     "output_type": "execute_result"
    }
   ],
   "source": [
    "data"
   ]
  },
  {
   "cell_type": "markdown",
   "metadata": {},
   "source": [
    "# Predspracovanie dát\n",
    "Pre náš baseline prototyp budeme potrebovať z pôvodného datasetu len stĺpce sent a tweet. V predspracovanom datasete som preto odstránil stĺpce id, date, query a name.\n",
    "Zo stĺpca tweet som dalej odstránil tagy s menami a URL linky.\n",
    "V stĺpci sent som hodnotu pozitívneho sentimentu 4 zmenil na 1.\n"
   ]
  },
  {
   "cell_type": "code",
   "execution_count": null,
   "metadata": {},
   "outputs": [],
   "source": []
  }
 ],
 "metadata": {
  "kernelspec": {
   "display_name": "Python 3",
   "language": "python",
   "name": "python3"
  },
  "language_info": {
   "codemirror_mode": {
    "name": "ipython",
    "version": 3
   },
   "file_extension": ".py",
   "mimetype": "text/x-python",
   "name": "python",
   "nbconvert_exporter": "python",
   "pygments_lexer": "ipython3",
   "version": "3.6.8"
  }
 },
 "nbformat": 4,
 "nbformat_minor": 2
}
