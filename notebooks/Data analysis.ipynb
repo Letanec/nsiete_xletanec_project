{
 "cells": [
  {
   "cell_type": "markdown",
   "metadata": {},
   "source": [
    "# Data analysis"
   ]
  },
  {
   "cell_type": "code",
   "execution_count": 1,
   "metadata": {},
   "outputs": [],
   "source": [
    "import pandas as pd\n",
    "import numpy as np\n",
    "import matplotlib\n",
    "import re\n",
    "from collections import Counter\n",
    "\n",
    "pd.set_option('float_format', '{:f}'.format)"
   ]
  },
  {
   "cell_type": "code",
   "execution_count": 2,
   "metadata": {},
   "outputs": [],
   "source": [
    "colnames = ['sent', 'id', 'date', 'query', 'name', 'tweet']\n",
    "data = pd.read_csv('../data/raw/data.csv', encoding=\"ISO-8859-1\", names=colnames, delimiter=',')"
   ]
  },
  {
   "cell_type": "code",
   "execution_count": 3,
   "metadata": {},
   "outputs": [
    {
     "data": {
      "text/html": [
       "<div>\n",
       "<style scoped>\n",
       "    .dataframe tbody tr th:only-of-type {\n",
       "        vertical-align: middle;\n",
       "    }\n",
       "\n",
       "    .dataframe tbody tr th {\n",
       "        vertical-align: top;\n",
       "    }\n",
       "\n",
       "    .dataframe thead th {\n",
       "        text-align: right;\n",
       "    }\n",
       "</style>\n",
       "<table border=\"1\" class=\"dataframe\">\n",
       "  <thead>\n",
       "    <tr style=\"text-align: right;\">\n",
       "      <th></th>\n",
       "      <th>sent</th>\n",
       "      <th>tweet</th>\n",
       "    </tr>\n",
       "  </thead>\n",
       "  <tbody>\n",
       "    <tr>\n",
       "      <th>0</th>\n",
       "      <td>0</td>\n",
       "      <td>- Awww, that's a bummer.  You shoulda got Da...</td>\n",
       "    </tr>\n",
       "    <tr>\n",
       "      <th>1</th>\n",
       "      <td>0</td>\n",
       "      <td>is upset that he can't update his Facebook by ...</td>\n",
       "    </tr>\n",
       "    <tr>\n",
       "      <th>2</th>\n",
       "      <td>0</td>\n",
       "      <td>I dived many times for the ball. Managed to s...</td>\n",
       "    </tr>\n",
       "    <tr>\n",
       "      <th>3</th>\n",
       "      <td>0</td>\n",
       "      <td>my whole body feels itchy and like its on fire</td>\n",
       "    </tr>\n",
       "    <tr>\n",
       "      <th>4</th>\n",
       "      <td>0</td>\n",
       "      <td>no, it's not behaving at all. i'm mad. why am...</td>\n",
       "    </tr>\n",
       "  </tbody>\n",
       "</table>\n",
       "</div>"
      ],
      "text/plain": [
       "   sent                                              tweet\n",
       "0     0    - Awww, that's a bummer.  You shoulda got Da...\n",
       "1     0  is upset that he can't update his Facebook by ...\n",
       "2     0   I dived many times for the ball. Managed to s...\n",
       "3     0    my whole body feels itchy and like its on fire \n",
       "4     0   no, it's not behaving at all. i'm mad. why am..."
      ]
     },
     "execution_count": 3,
     "metadata": {},
     "output_type": "execute_result"
    }
   ],
   "source": [
    "data.head()"
   ]
  },
  {
   "cell_type": "code",
   "execution_count": 4,
   "metadata": {},
   "outputs": [
    {
     "data": {
      "text/plain": [
       "(1600000, 2)"
      ]
     },
     "execution_count": 4,
     "metadata": {},
     "output_type": "execute_result"
    }
   ],
   "source": [
    "np.shape(data)"
   ]
  },
  {
   "cell_type": "code",
   "execution_count": 5,
   "metadata": {},
   "outputs": [
    {
     "data": {
      "text/plain": [
       "count   1600000.000000\n",
       "mean          2.000000\n",
       "std           2.000001\n",
       "min           0.000000\n",
       "25%           0.000000\n",
       "50%           2.000000\n",
       "75%           4.000000\n",
       "max           4.000000\n",
       "Name: sent, dtype: float64"
      ]
     },
     "execution_count": 5,
     "metadata": {},
     "output_type": "execute_result"
    }
   ],
   "source": [
    "data['sent'].describe()"
   ]
  },
  {
   "cell_type": "code",
   "execution_count": 6,
   "metadata": {},
   "outputs": [
    {
     "data": {
      "text/plain": [
       "array([0, 4])"
      ]
     },
     "execution_count": 6,
     "metadata": {},
     "output_type": "execute_result"
    }
   ],
   "source": [
    "data['sent'].unique()"
   ]
  },
  {
   "cell_type": "code",
   "execution_count": 7,
   "metadata": {},
   "outputs": [
    {
     "ename": "KeyError",
     "evalue": "'id'",
     "output_type": "error",
     "traceback": [
      "\u001b[0;31m---------------------------------------------------------------------------\u001b[0m",
      "\u001b[0;31mKeyError\u001b[0m                                  Traceback (most recent call last)",
      "\u001b[0;32m/usr/local/lib/python3.6/dist-packages/pandas/core/indexes/base.py\u001b[0m in \u001b[0;36mget_loc\u001b[0;34m(self, key, method, tolerance)\u001b[0m\n\u001b[1;32m   2896\u001b[0m             \u001b[0;32mtry\u001b[0m\u001b[0;34m:\u001b[0m\u001b[0;34m\u001b[0m\u001b[0;34m\u001b[0m\u001b[0m\n\u001b[0;32m-> 2897\u001b[0;31m                 \u001b[0;32mreturn\u001b[0m \u001b[0mself\u001b[0m\u001b[0;34m.\u001b[0m\u001b[0m_engine\u001b[0m\u001b[0;34m.\u001b[0m\u001b[0mget_loc\u001b[0m\u001b[0;34m(\u001b[0m\u001b[0mkey\u001b[0m\u001b[0;34m)\u001b[0m\u001b[0;34m\u001b[0m\u001b[0;34m\u001b[0m\u001b[0m\n\u001b[0m\u001b[1;32m   2898\u001b[0m             \u001b[0;32mexcept\u001b[0m \u001b[0mKeyError\u001b[0m\u001b[0;34m:\u001b[0m\u001b[0;34m\u001b[0m\u001b[0;34m\u001b[0m\u001b[0m\n",
      "\u001b[0;32mpandas/_libs/index.pyx\u001b[0m in \u001b[0;36mpandas._libs.index.IndexEngine.get_loc\u001b[0;34m()\u001b[0m\n",
      "\u001b[0;32mpandas/_libs/index.pyx\u001b[0m in \u001b[0;36mpandas._libs.index.IndexEngine.get_loc\u001b[0;34m()\u001b[0m\n",
      "\u001b[0;32mpandas/_libs/hashtable_class_helper.pxi\u001b[0m in \u001b[0;36mpandas._libs.hashtable.PyObjectHashTable.get_item\u001b[0;34m()\u001b[0m\n",
      "\u001b[0;32mpandas/_libs/hashtable_class_helper.pxi\u001b[0m in \u001b[0;36mpandas._libs.hashtable.PyObjectHashTable.get_item\u001b[0;34m()\u001b[0m\n",
      "\u001b[0;31mKeyError\u001b[0m: 'id'",
      "\nDuring handling of the above exception, another exception occurred:\n",
      "\u001b[0;31mKeyError\u001b[0m                                  Traceback (most recent call last)",
      "\u001b[0;32m<ipython-input-7-c4889ffabab9>\u001b[0m in \u001b[0;36m<module>\u001b[0;34m\u001b[0m\n\u001b[0;32m----> 1\u001b[0;31m \u001b[0mdata\u001b[0m\u001b[0;34m[\u001b[0m\u001b[0;34m'id'\u001b[0m\u001b[0;34m]\u001b[0m\u001b[0;34m.\u001b[0m\u001b[0mdescribe\u001b[0m\u001b[0;34m(\u001b[0m\u001b[0;34m)\u001b[0m\u001b[0;34m\u001b[0m\u001b[0;34m\u001b[0m\u001b[0m\n\u001b[0m",
      "\u001b[0;32m/usr/local/lib/python3.6/dist-packages/pandas/core/frame.py\u001b[0m in \u001b[0;36m__getitem__\u001b[0;34m(self, key)\u001b[0m\n\u001b[1;32m   2993\u001b[0m             \u001b[0;32mif\u001b[0m \u001b[0mself\u001b[0m\u001b[0;34m.\u001b[0m\u001b[0mcolumns\u001b[0m\u001b[0;34m.\u001b[0m\u001b[0mnlevels\u001b[0m \u001b[0;34m>\u001b[0m \u001b[0;36m1\u001b[0m\u001b[0;34m:\u001b[0m\u001b[0;34m\u001b[0m\u001b[0;34m\u001b[0m\u001b[0m\n\u001b[1;32m   2994\u001b[0m                 \u001b[0;32mreturn\u001b[0m \u001b[0mself\u001b[0m\u001b[0;34m.\u001b[0m\u001b[0m_getitem_multilevel\u001b[0m\u001b[0;34m(\u001b[0m\u001b[0mkey\u001b[0m\u001b[0;34m)\u001b[0m\u001b[0;34m\u001b[0m\u001b[0;34m\u001b[0m\u001b[0m\n\u001b[0;32m-> 2995\u001b[0;31m             \u001b[0mindexer\u001b[0m \u001b[0;34m=\u001b[0m \u001b[0mself\u001b[0m\u001b[0;34m.\u001b[0m\u001b[0mcolumns\u001b[0m\u001b[0;34m.\u001b[0m\u001b[0mget_loc\u001b[0m\u001b[0;34m(\u001b[0m\u001b[0mkey\u001b[0m\u001b[0;34m)\u001b[0m\u001b[0;34m\u001b[0m\u001b[0;34m\u001b[0m\u001b[0m\n\u001b[0m\u001b[1;32m   2996\u001b[0m             \u001b[0;32mif\u001b[0m \u001b[0mis_integer\u001b[0m\u001b[0;34m(\u001b[0m\u001b[0mindexer\u001b[0m\u001b[0;34m)\u001b[0m\u001b[0;34m:\u001b[0m\u001b[0;34m\u001b[0m\u001b[0;34m\u001b[0m\u001b[0m\n\u001b[1;32m   2997\u001b[0m                 \u001b[0mindexer\u001b[0m \u001b[0;34m=\u001b[0m \u001b[0;34m[\u001b[0m\u001b[0mindexer\u001b[0m\u001b[0;34m]\u001b[0m\u001b[0;34m\u001b[0m\u001b[0;34m\u001b[0m\u001b[0m\n",
      "\u001b[0;32m/usr/local/lib/python3.6/dist-packages/pandas/core/indexes/base.py\u001b[0m in \u001b[0;36mget_loc\u001b[0;34m(self, key, method, tolerance)\u001b[0m\n\u001b[1;32m   2897\u001b[0m                 \u001b[0;32mreturn\u001b[0m \u001b[0mself\u001b[0m\u001b[0;34m.\u001b[0m\u001b[0m_engine\u001b[0m\u001b[0;34m.\u001b[0m\u001b[0mget_loc\u001b[0m\u001b[0;34m(\u001b[0m\u001b[0mkey\u001b[0m\u001b[0;34m)\u001b[0m\u001b[0;34m\u001b[0m\u001b[0;34m\u001b[0m\u001b[0m\n\u001b[1;32m   2898\u001b[0m             \u001b[0;32mexcept\u001b[0m \u001b[0mKeyError\u001b[0m\u001b[0;34m:\u001b[0m\u001b[0;34m\u001b[0m\u001b[0;34m\u001b[0m\u001b[0m\n\u001b[0;32m-> 2899\u001b[0;31m                 \u001b[0;32mreturn\u001b[0m \u001b[0mself\u001b[0m\u001b[0;34m.\u001b[0m\u001b[0m_engine\u001b[0m\u001b[0;34m.\u001b[0m\u001b[0mget_loc\u001b[0m\u001b[0;34m(\u001b[0m\u001b[0mself\u001b[0m\u001b[0;34m.\u001b[0m\u001b[0m_maybe_cast_indexer\u001b[0m\u001b[0;34m(\u001b[0m\u001b[0mkey\u001b[0m\u001b[0;34m)\u001b[0m\u001b[0;34m)\u001b[0m\u001b[0;34m\u001b[0m\u001b[0;34m\u001b[0m\u001b[0m\n\u001b[0m\u001b[1;32m   2900\u001b[0m         \u001b[0mindexer\u001b[0m \u001b[0;34m=\u001b[0m \u001b[0mself\u001b[0m\u001b[0;34m.\u001b[0m\u001b[0mget_indexer\u001b[0m\u001b[0;34m(\u001b[0m\u001b[0;34m[\u001b[0m\u001b[0mkey\u001b[0m\u001b[0;34m]\u001b[0m\u001b[0;34m,\u001b[0m \u001b[0mmethod\u001b[0m\u001b[0;34m=\u001b[0m\u001b[0mmethod\u001b[0m\u001b[0;34m,\u001b[0m \u001b[0mtolerance\u001b[0m\u001b[0;34m=\u001b[0m\u001b[0mtolerance\u001b[0m\u001b[0;34m)\u001b[0m\u001b[0;34m\u001b[0m\u001b[0;34m\u001b[0m\u001b[0m\n\u001b[1;32m   2901\u001b[0m         \u001b[0;32mif\u001b[0m \u001b[0mindexer\u001b[0m\u001b[0;34m.\u001b[0m\u001b[0mndim\u001b[0m \u001b[0;34m>\u001b[0m \u001b[0;36m1\u001b[0m \u001b[0;32mor\u001b[0m \u001b[0mindexer\u001b[0m\u001b[0;34m.\u001b[0m\u001b[0msize\u001b[0m \u001b[0;34m>\u001b[0m \u001b[0;36m1\u001b[0m\u001b[0;34m:\u001b[0m\u001b[0;34m\u001b[0m\u001b[0;34m\u001b[0m\u001b[0m\n",
      "\u001b[0;32mpandas/_libs/index.pyx\u001b[0m in \u001b[0;36mpandas._libs.index.IndexEngine.get_loc\u001b[0;34m()\u001b[0m\n",
      "\u001b[0;32mpandas/_libs/index.pyx\u001b[0m in \u001b[0;36mpandas._libs.index.IndexEngine.get_loc\u001b[0;34m()\u001b[0m\n",
      "\u001b[0;32mpandas/_libs/hashtable_class_helper.pxi\u001b[0m in \u001b[0;36mpandas._libs.hashtable.PyObjectHashTable.get_item\u001b[0;34m()\u001b[0m\n",
      "\u001b[0;32mpandas/_libs/hashtable_class_helper.pxi\u001b[0m in \u001b[0;36mpandas._libs.hashtable.PyObjectHashTable.get_item\u001b[0;34m()\u001b[0m\n",
      "\u001b[0;31mKeyError\u001b[0m: 'id'"
     ]
    }
   ],
   "source": [
    "data['id'].describe()"
   ]
  },
  {
   "cell_type": "code",
   "execution_count": 9,
   "metadata": {},
   "outputs": [
    {
     "data": {
      "text/plain": [
       "count                          1600000\n",
       "unique                          774363\n",
       "top       Mon Jun 15 12:53:14 PDT 2009\n",
       "freq                                20\n",
       "Name: date, dtype: object"
      ]
     },
     "execution_count": 9,
     "metadata": {},
     "output_type": "execute_result"
    }
   ],
   "source": [
    "data['date'].describe()"
   ]
  },
  {
   "cell_type": "code",
   "execution_count": 10,
   "metadata": {},
   "outputs": [
    {
     "data": {
      "text/plain": [
       "count      1600000\n",
       "unique           1\n",
       "top       NO_QUERY\n",
       "freq       1600000\n",
       "Name: query, dtype: object"
      ]
     },
     "execution_count": 10,
     "metadata": {},
     "output_type": "execute_result"
    }
   ],
   "source": [
    "data['query'].describe()"
   ]
  },
  {
   "cell_type": "code",
   "execution_count": 11,
   "metadata": {},
   "outputs": [
    {
     "data": {
      "text/plain": [
       "array(['NO_QUERY'], dtype=object)"
      ]
     },
     "execution_count": 11,
     "metadata": {},
     "output_type": "execute_result"
    }
   ],
   "source": [
    "data['query'].unique()"
   ]
  },
  {
   "cell_type": "code",
   "execution_count": 12,
   "metadata": {},
   "outputs": [
    {
     "data": {
      "text/plain": [
       "count      1600000\n",
       "unique      659775\n",
       "top       lost_dog\n",
       "freq           549\n",
       "Name: name, dtype: object"
      ]
     },
     "execution_count": 12,
     "metadata": {},
     "output_type": "execute_result"
    }
   ],
   "source": [
    "data['name'].describe()"
   ]
  },
  {
   "cell_type": "code",
   "execution_count": 8,
   "metadata": {},
   "outputs": [
    {
     "data": {
      "text/plain": [
       "count     1600000\n",
       "unique    1555629\n",
       "top              \n",
       "freq         2501\n",
       "Name: tweet, dtype: object"
      ]
     },
     "execution_count": 8,
     "metadata": {},
     "output_type": "execute_result"
    }
   ],
   "source": [
    "data['tweet'].describe()"
   ]
  },
  {
   "cell_type": "code",
   "execution_count": 9,
   "metadata": {},
   "outputs": [],
   "source": [
    "data['word_count'] = data['tweet'].str.split().str.len()"
   ]
  },
  {
   "cell_type": "code",
   "execution_count": 10,
   "metadata": {},
   "outputs": [
    {
     "data": {
      "text/plain": [
       "count   1600000.000000\n",
       "mean         12.638969\n",
       "std           6.977789\n",
       "min           0.000000\n",
       "25%           7.000000\n",
       "50%          12.000000\n",
       "75%          18.000000\n",
       "max          64.000000\n",
       "Name: word_count, dtype: float64"
      ]
     },
     "execution_count": 10,
     "metadata": {},
     "output_type": "execute_result"
    }
   ],
   "source": [
    "data['word_count'].describe()"
   ]
  },
  {
   "cell_type": "code",
   "execution_count": 11,
   "metadata": {},
   "outputs": [],
   "source": [
    "data['words'] = data['tweet'].str.split()"
   ]
  },
  {
   "cell_type": "code",
   "execution_count": 12,
   "metadata": {},
   "outputs": [
    {
     "data": {
      "text/plain": [
       "0          [-, Awww,, that's, a, bummer., You, shoulda, g...\n",
       "1          [is, upset, that, he, can't, update, his, Face...\n",
       "2          [I, dived, many, times, for, the, ball., Manag...\n",
       "3          [my, whole, body, feels, itchy, and, like, its...\n",
       "4          [no,, it's, not, behaving, at, all., i'm, mad....\n",
       "                                 ...                        \n",
       "1599995    [Just, woke, up., Having, no, school, is, the,...\n",
       "1599996    [TheWDB.com, -, Very, cool, to, hear, old, Wal...\n",
       "1599997    [Are, you, ready, for, your, MoJo, Makeover?, ...\n",
       "1599998    [Happy, 38th, Birthday, to, my, boo, of, alll,...\n",
       "1599999                             [happy, #charitytuesday]\n",
       "Name: words, Length: 1600000, dtype: object"
      ]
     },
     "execution_count": 12,
     "metadata": {},
     "output_type": "execute_result"
    }
   ],
   "source": [
    "data['words']"
   ]
  },
  {
   "cell_type": "code",
   "execution_count": 13,
   "metadata": {},
   "outputs": [
    {
     "data": {
      "text/plain": [
       "[('the', 257496),\n",
       " ('and', 153837),\n",
       " ('you', 103692),\n",
       " ('for', 98855),\n",
       " ('but', 84875),\n",
       " ('that', 82745),\n",
       " ('have', 82739),\n",
       " ('not', 74887),\n",
       " ('just', 63912),\n",
       " ('was', 59216),\n",
       " ('this', 52914),\n",
       " ('now', 52534),\n",
       " ('can', 52129),\n",
       " ('with', 50071),\n",
       " ('get', 45488),\n",
       " ('work', 45262),\n",
       " ('out', 43800),\n",
       " ('all', 42079),\n",
       " ('like', 40996),\n",
       " ('day', 39770),\n",
       " ('today', 37993),\n",
       " ('too', 37463),\n",
       " ('are', 33976),\n",
       " ('going', 33636),\n",
       " ('got', 33230),\n",
       " ('back', 33005),\n",
       " ('don', 32837),\n",
       " ('really', 31422),\n",
       " ('miss', 30620),\n",
       " ('want', 29779),\n",
       " ('what', 29289),\n",
       " ('still', 29199),\n",
       " ('good', 29172),\n",
       " ('from', 27992),\n",
       " ('sad', 27860),\n",
       " ('had', 27756),\n",
       " ('time', 27486),\n",
       " ('one', 27213),\n",
       " ('know', 26290),\n",
       " ('quot', 26166),\n",
       " ('about', 26119),\n",
       " ('its', 25488),\n",
       " ('they', 25008),\n",
       " ('home', 24463),\n",
       " ('there', 23891),\n",
       " ('lol', 23095),\n",
       " ('will', 22925),\n",
       " ('amp', 22465),\n",
       " ('last', 22426),\n",
       " ('wish', 22370),\n",
       " ('when', 22324),\n",
       " ('need', 22233),\n",
       " ('feel', 21916),\n",
       " ('think', 21848),\n",
       " ('bad', 21664),\n",
       " ('why', 21019),\n",
       " ('has', 20948),\n",
       " ('sorry', 20939),\n",
       " ('your', 20875),\n",
       " ('how', 20763),\n",
       " ('see', 20529),\n",
       " ('been', 20227),\n",
       " ('night', 20002),\n",
       " ('much', 19963),\n",
       " ('here', 19651),\n",
       " ('well', 19456),\n",
       " ('off', 19373),\n",
       " ('tomorrow', 19215),\n",
       " ('some', 18983),\n",
       " ('more', 18811),\n",
       " ('sleep', 18424),\n",
       " ('again', 18340),\n",
       " ('only', 17590),\n",
       " ('her', 17553),\n",
       " ('hate', 17152),\n",
       " ('she', 16978),\n",
       " ('love', 16970),\n",
       " ('new', 15480),\n",
       " ('then', 15259),\n",
       " ('didn', 15093),\n",
       " ('right', 15032),\n",
       " ('though', 14783),\n",
       " ('hope', 14655),\n",
       " ('sick', 14570),\n",
       " ('over', 13993),\n",
       " ('would', 13985),\n",
       " ('could', 13805),\n",
       " ('morning', 13755),\n",
       " ('getting', 13484),\n",
       " ('tonight', 13398),\n",
       " ('did', 13265),\n",
       " ('twitter', 13231),\n",
       " ('gonna', 13163),\n",
       " ('very', 12919),\n",
       " ('come', 12901),\n",
       " ('school', 12842),\n",
       " ('dont', 12716),\n",
       " ('them', 12611),\n",
       " ('cant', 12390),\n",
       " ('bed', 12366)]"
      ]
     },
     "execution_count": 13,
     "metadata": {},
     "output_type": "execute_result"
    }
   ],
   "source": [
    "Counter(re.findall('\\w{3,}',' '.join(data['tweet'].head(800000)).lower())).most_common(100)"
   ]
  },
  {
   "cell_type": "code",
   "execution_count": 14,
   "metadata": {},
   "outputs": [
    {
     "data": {
      "text/plain": [
       "[('the', 265516),\n",
       " ('you', 197912),\n",
       " ('and', 149481),\n",
       " ('for', 117100),\n",
       " ('that', 82997),\n",
       " ('with', 64978),\n",
       " ('just', 62833),\n",
       " ('have', 62659),\n",
       " ('good', 61987),\n",
       " ('but', 48580),\n",
       " ('love', 47585),\n",
       " ('day', 47075),\n",
       " ('quot', 45921),\n",
       " ('was', 45285),\n",
       " ('your', 44471),\n",
       " ('are', 44018),\n",
       " ('this', 41505),\n",
       " ('all', 41349),\n",
       " ('can', 41313),\n",
       " ('now', 41292),\n",
       " ('out', 38314),\n",
       " ('like', 37458),\n",
       " ('get', 36458),\n",
       " ('lol', 36080),\n",
       " ('thanks', 34438),\n",
       " ('not', 33609),\n",
       " ('going', 30851),\n",
       " ('time', 30372),\n",
       " ('today', 30013),\n",
       " ('what', 30003),\n",
       " ('will', 29435),\n",
       " ('too', 28186),\n",
       " ('from', 28118),\n",
       " ('got', 27948),\n",
       " ('new', 26859),\n",
       " ('one', 26640),\n",
       " ('some', 26554),\n",
       " ('amp', 26243),\n",
       " ('see', 25772),\n",
       " ('know', 25710),\n",
       " ('great', 25265),\n",
       " ('about', 24291),\n",
       " ('back', 23808),\n",
       " ('night', 23514),\n",
       " ('how', 23349),\n",
       " ('well', 23263),\n",
       " ('haha', 21629),\n",
       " ('there', 21310),\n",
       " ('morning', 20795),\n",
       " ('happy', 20472),\n",
       " ('had', 20293),\n",
       " ('think', 19500),\n",
       " ('work', 19489),\n",
       " ('twitter', 19426),\n",
       " ('then', 19350),\n",
       " ('its', 19185),\n",
       " ('hope', 19178),\n",
       " ('more', 19002),\n",
       " ('really', 18507),\n",
       " ('fun', 18475),\n",
       " ('they', 18330),\n",
       " ('here', 18070),\n",
       " ('off', 17650),\n",
       " ('don', 17171),\n",
       " ('when', 17111),\n",
       " ('much', 16996),\n",
       " ('nice', 16932),\n",
       " ('home', 15890),\n",
       " ('thank', 15789),\n",
       " ('tomorrow', 14835),\n",
       " ('awesome', 14444),\n",
       " ('watching', 14312),\n",
       " ('still', 14288),\n",
       " ('wait', 14044),\n",
       " ('hey', 14030),\n",
       " ('very', 13909),\n",
       " ('need', 13653),\n",
       " ('her', 13524),\n",
       " ('been', 13391),\n",
       " ('would', 13307),\n",
       " ('last', 13254),\n",
       " ('should', 13157),\n",
       " ('right', 12796),\n",
       " ('yes', 12789),\n",
       " ('yeah', 12723),\n",
       " ('make', 12638),\n",
       " ('she', 12632),\n",
       " ('way', 12620),\n",
       " ('again', 12572),\n",
       " ('tonight', 12571),\n",
       " ('better', 12458),\n",
       " ('want', 12414),\n",
       " ('did', 12367),\n",
       " ('come', 12149),\n",
       " ('them', 12135),\n",
       " ('has', 11980),\n",
       " ('best', 11249),\n",
       " ('getting', 10823),\n",
       " ('gonna', 10644),\n",
       " ('cool', 10536)]"
      ]
     },
     "execution_count": 14,
     "metadata": {},
     "output_type": "execute_result"
    }
   ],
   "source": [
    "Counter(re.findall('\\w{3,}',' '.join(data['tweet'].tail(800000)).lower())).most_common(100)"
   ]
  },
  {
   "cell_type": "code",
   "execution_count": 15,
   "metadata": {},
   "outputs": [
    {
     "data": {
      "text/html": [
       "<div>\n",
       "<style scoped>\n",
       "    .dataframe tbody tr th:only-of-type {\n",
       "        vertical-align: middle;\n",
       "    }\n",
       "\n",
       "    .dataframe tbody tr th {\n",
       "        vertical-align: top;\n",
       "    }\n",
       "\n",
       "    .dataframe thead th {\n",
       "        text-align: right;\n",
       "    }\n",
       "</style>\n",
       "<table border=\"1\" class=\"dataframe\">\n",
       "  <thead>\n",
       "    <tr style=\"text-align: right;\">\n",
       "      <th></th>\n",
       "      <th>sent</th>\n",
       "      <th>tweet</th>\n",
       "      <th>word_count</th>\n",
       "      <th>words</th>\n",
       "    </tr>\n",
       "  </thead>\n",
       "  <tbody>\n",
       "    <tr>\n",
       "      <th>0</th>\n",
       "      <td>0</td>\n",
       "      <td>- Awww, that's a bummer.  You shoulda got Da...</td>\n",
       "      <td>17</td>\n",
       "      <td>[-, Awww,, that's, a, bummer., You, shoulda, g...</td>\n",
       "    </tr>\n",
       "    <tr>\n",
       "      <th>1</th>\n",
       "      <td>0</td>\n",
       "      <td>is upset that he can't update his Facebook by ...</td>\n",
       "      <td>21</td>\n",
       "      <td>[is, upset, that, he, can't, update, his, Face...</td>\n",
       "    </tr>\n",
       "    <tr>\n",
       "      <th>2</th>\n",
       "      <td>0</td>\n",
       "      <td>I dived many times for the ball. Managed to s...</td>\n",
       "      <td>17</td>\n",
       "      <td>[I, dived, many, times, for, the, ball., Manag...</td>\n",
       "    </tr>\n",
       "    <tr>\n",
       "      <th>3</th>\n",
       "      <td>0</td>\n",
       "      <td>my whole body feels itchy and like its on fire</td>\n",
       "      <td>10</td>\n",
       "      <td>[my, whole, body, feels, itchy, and, like, its...</td>\n",
       "    </tr>\n",
       "    <tr>\n",
       "      <th>4</th>\n",
       "      <td>0</td>\n",
       "      <td>no, it's not behaving at all. i'm mad. why am...</td>\n",
       "      <td>20</td>\n",
       "      <td>[no,, it's, not, behaving, at, all., i'm, mad....</td>\n",
       "    </tr>\n",
       "    <tr>\n",
       "      <th>...</th>\n",
       "      <td>...</td>\n",
       "      <td>...</td>\n",
       "      <td>...</td>\n",
       "      <td>...</td>\n",
       "    </tr>\n",
       "    <tr>\n",
       "      <th>1599995</th>\n",
       "      <td>4</td>\n",
       "      <td>Just woke up. Having no school is the best fee...</td>\n",
       "      <td>11</td>\n",
       "      <td>[Just, woke, up., Having, no, school, is, the,...</td>\n",
       "    </tr>\n",
       "    <tr>\n",
       "      <th>1599996</th>\n",
       "      <td>4</td>\n",
       "      <td>TheWDB.com - Very cool to hear old Walt interv...</td>\n",
       "      <td>10</td>\n",
       "      <td>[TheWDB.com, -, Very, cool, to, hear, old, Wal...</td>\n",
       "    </tr>\n",
       "    <tr>\n",
       "      <th>1599997</th>\n",
       "      <td>4</td>\n",
       "      <td>Are you ready for your MoJo Makeover? Ask me f...</td>\n",
       "      <td>11</td>\n",
       "      <td>[Are, you, ready, for, your, MoJo, Makeover?, ...</td>\n",
       "    </tr>\n",
       "    <tr>\n",
       "      <th>1599998</th>\n",
       "      <td>4</td>\n",
       "      <td>Happy 38th Birthday to my boo of alll time!!! ...</td>\n",
       "      <td>12</td>\n",
       "      <td>[Happy, 38th, Birthday, to, my, boo, of, alll,...</td>\n",
       "    </tr>\n",
       "    <tr>\n",
       "      <th>1599999</th>\n",
       "      <td>4</td>\n",
       "      <td>happy #charitytuesday</td>\n",
       "      <td>2</td>\n",
       "      <td>[happy, #charitytuesday]</td>\n",
       "    </tr>\n",
       "  </tbody>\n",
       "</table>\n",
       "<p>1600000 rows × 4 columns</p>\n",
       "</div>"
      ],
      "text/plain": [
       "         sent                                              tweet  word_count  \\\n",
       "0           0    - Awww, that's a bummer.  You shoulda got Da...          17   \n",
       "1           0  is upset that he can't update his Facebook by ...          21   \n",
       "2           0   I dived many times for the ball. Managed to s...          17   \n",
       "3           0    my whole body feels itchy and like its on fire           10   \n",
       "4           0   no, it's not behaving at all. i'm mad. why am...          20   \n",
       "...       ...                                                ...         ...   \n",
       "1599995     4  Just woke up. Having no school is the best fee...          11   \n",
       "1599996     4  TheWDB.com - Very cool to hear old Walt interv...          10   \n",
       "1599997     4  Are you ready for your MoJo Makeover? Ask me f...          11   \n",
       "1599998     4  Happy 38th Birthday to my boo of alll time!!! ...          12   \n",
       "1599999     4                          happy #charitytuesday               2   \n",
       "\n",
       "                                                     words  \n",
       "0        [-, Awww,, that's, a, bummer., You, shoulda, g...  \n",
       "1        [is, upset, that, he, can't, update, his, Face...  \n",
       "2        [I, dived, many, times, for, the, ball., Manag...  \n",
       "3        [my, whole, body, feels, itchy, and, like, its...  \n",
       "4        [no,, it's, not, behaving, at, all., i'm, mad....  \n",
       "...                                                    ...  \n",
       "1599995  [Just, woke, up., Having, no, school, is, the,...  \n",
       "1599996  [TheWDB.com, -, Very, cool, to, hear, old, Wal...  \n",
       "1599997  [Are, you, ready, for, your, MoJo, Makeover?, ...  \n",
       "1599998  [Happy, 38th, Birthday, to, my, boo, of, alll,...  \n",
       "1599999                           [happy, #charitytuesday]  \n",
       "\n",
       "[1600000 rows x 4 columns]"
      ]
     },
     "execution_count": 15,
     "metadata": {},
     "output_type": "execute_result"
    }
   ],
   "source": [
    "data"
   ]
  },
  {
   "cell_type": "code",
   "execution_count": null,
   "metadata": {},
   "outputs": [],
   "source": []
  }
 ],
 "metadata": {
  "kernelspec": {
   "display_name": "Python 3",
   "language": "python",
   "name": "python3"
  },
  "language_info": {
   "codemirror_mode": {
    "name": "ipython",
    "version": 3
   },
   "file_extension": ".py",
   "mimetype": "text/x-python",
   "name": "python",
   "nbconvert_exporter": "python",
   "pygments_lexer": "ipython3",
   "version": "3.6.8"
  }
 },
 "nbformat": 4,
 "nbformat_minor": 2
}
