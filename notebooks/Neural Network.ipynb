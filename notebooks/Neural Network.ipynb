{
 "cells": [
  {
   "cell_type": "markdown",
   "metadata": {},
   "source": [
    "# Neurónová sieť"
   ]
  },
  {
   "cell_type": "markdown",
   "metadata": {},
   "source": [
    "![title](NNArch_base.png)"
   ]
  },
  {
   "cell_type": "markdown",
   "metadata": {},
   "source": [
    "V baseline prototype využívam upravený model z týždňa 8 v ktorom definujem tri vrstvy. \n",
    "1. Embedding vrstvu s input_dim=vocab_size a output_dim=64\n",
    "2. Obojsmernú LSTM vrstvu typu many to one so 64 jednotkami\n",
    "3. Dense vrstvu s 1 jednotkou a aktivačnou funkciou sigmoid\n",
    "\n",
    "Stratovú funkciu používam binary_crossentropy"
   ]
  },
  {
   "cell_type": "markdown",
   "metadata": {},
   "source": [
    "![title](NNArch.png)"
   ]
  },
  {
   "cell_type": "markdown",
   "metadata": {},
   "source": [
    "Vo finálnej archytektúre som sa vytvoril nasledujúce vrstvy:\n",
    "1. Embedding Layer s dimenziami vocab_size * 200\n",
    "2. Gaussian Noise Layer so štandardnou odchylkou 0.3\n",
    "3. Dropout Layer s rateom 0.3\n",
    "4. Bidirectional LSTM Layer so 64 jednotkami a vystupom m2m\n",
    "5. Bidirectional LSTM Layer so 64 jednotkami a vystupom m2one\n",
    "6. Druhy Dropout Layer s rateom 0.4\n",
    "7. Dense Layer s 1 jednotkou a aktivačnou funkciou sigmoid\n",
    "\n",
    "Stratovú funkciu som opäť použil binary_crossentropy"
   ]
  },
  {
   "cell_type": "code",
   "execution_count": 3,
   "metadata": {},
   "outputs": [],
   "source": [
    "import sys\n",
    "sys.path.append('..')\n",
    "\n",
    "from src.data import load_data as ld\n",
    "from src.models import train as t\n",
    "from src.models import model as m"
   ]
  },
  {
   "cell_type": "code",
   "execution_count": 4,
   "metadata": {},
   "outputs": [],
   "source": [
    "train_x, train_y, test_x, test_y, vocab = ld.prepare()"
   ]
  },
  {
   "cell_type": "code",
   "execution_count": 5,
   "metadata": {},
   "outputs": [
    {
     "name": "stdout",
     "output_type": "stream",
     "text": [
      "Train on 30000 samples, validate on 100000 samples\n",
      "Epoch 1/5\n",
      "30000/30000 [==============================] - 322s 11ms/sample - loss: 0.5896 - accuracy: 0.6786 - val_loss: 0.5119 - val_accuracy: 0.7528\n",
      "Epoch 2/5\n",
      "30000/30000 [==============================] - 299s 10ms/sample - loss: 0.4684 - accuracy: 0.7791 - val_loss: 0.5031 - val_accuracy: 0.7604\n",
      "Epoch 3/5\n",
      "30000/30000 [==============================] - 304s 10ms/sample - loss: 0.4135 - accuracy: 0.8145 - val_loss: 0.5004 - val_accuracy: 0.7630\n",
      "Epoch 4/5\n",
      "30000/30000 [==============================] - 306s 10ms/sample - loss: 0.3713 - accuracy: 0.8370 - val_loss: 0.5292 - val_accuracy: 0.7615\n",
      "Epoch 5/5\n",
      "30000/30000 [==============================] - 306s 10ms/sample - loss: 0.3376 - accuracy: 0.8552 - val_loss: 0.6048 - val_accuracy: 0.7555\n"
     ]
    }
   ],
   "source": [
    "t.train_model(train_x, train_y, test_x, test_y, vocab)"
   ]
  },
  {
   "cell_type": "code",
   "execution_count": null,
   "metadata": {},
   "outputs": [],
   "source": []
  }
 ],
 "metadata": {
  "kernelspec": {
   "display_name": "Python 3",
   "language": "python",
   "name": "python3"
  },
  "language_info": {
   "codemirror_mode": {
    "name": "ipython",
    "version": 3
   },
   "file_extension": ".py",
   "mimetype": "text/x-python",
   "name": "python",
   "nbconvert_exporter": "python",
   "pygments_lexer": "ipython3",
   "version": "3.6.8"
  }
 },
 "nbformat": 4,
 "nbformat_minor": 2
}
