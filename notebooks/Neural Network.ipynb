{
 "cells": [
  {
   "cell_type": "code",
   "execution_count": 1,
   "metadata": {},
   "outputs": [],
   "source": [
    "import sys\n",
    "sys.path.append('..')\n",
    "\n",
    "from src.data import load_data as ld\n",
    "from src.models import train as t\n",
    "from src.models import model as m"
   ]
  },
  {
   "cell_type": "code",
   "execution_count": 2,
   "metadata": {},
   "outputs": [
    {
     "name": "stdout",
     "output_type": "stream",
     "text": [
      "      sent                                              tweet\n",
      "2295     0               tuesday! this week is going so slow \n",
      "2748     0   I was wondering if y'all were going to observ...\n",
      "5118     1   Hahaha!  you should come and see us here! it'...\n",
      "9812     1                 Depends who the voicemail is from \n",
      "3932     0  You didn't come outside to do meet and greet t...\n",
      "      sent                                              tweet\n",
      "6643     1  My order for a new iMac has been processed, is...\n",
      "3349     0  So happy no extra tax on booze  ole smokes 25c...\n",
      "9514     1                               send when u're done \n",
      "7061     1  Finally traffic's over! Having dinner @ Green ...\n",
      "7868     1                                  Isn't that cute? \n"
     ]
    }
   ],
   "source": [
    "train_x, train_y, test_x, test_y, vocab = ld.prepare()"
   ]
  },
  {
   "cell_type": "code",
   "execution_count": 3,
   "metadata": {},
   "outputs": [
    {
     "name": "stdout",
     "output_type": "stream",
     "text": [
      "Train on 10000 samples, validate on 10000 samples\n",
      "Epoch 1/5\n",
      "10000/10000 [==============================] - 22s 2ms/sample - loss: 0.6270 - accuracy: 0.6426 - val_loss: 0.4281 - val_accuracy: 0.8570\n",
      "Epoch 2/5\n",
      "10000/10000 [==============================] - 12s 1ms/sample - loss: 0.3507 - accuracy: 0.8628 - val_loss: 0.1739 - val_accuracy: 0.9539\n",
      "Epoch 3/5\n",
      "10000/10000 [==============================] - 12s 1ms/sample - loss: 0.1473 - accuracy: 0.9508 - val_loss: 0.0733 - val_accuracy: 0.9805\n",
      "Epoch 4/5\n",
      "10000/10000 [==============================] - 14s 1ms/sample - loss: 0.0747 - accuracy: 0.9756 - val_loss: 0.0475 - val_accuracy: 0.9854\n",
      "Epoch 5/5\n",
      "10000/10000 [==============================] - 13s 1ms/sample - loss: 0.0419 - accuracy: 0.9866 - val_loss: 0.0211 - val_accuracy: 0.9942\n"
     ]
    }
   ],
   "source": [
    "t.train_model(train_x, train_y, test_x, test_y, vocab)"
   ]
  },
  {
   "cell_type": "code",
   "execution_count": null,
   "metadata": {},
   "outputs": [],
   "source": []
  }
 ],
 "metadata": {
  "kernelspec": {
   "display_name": "Python 3",
   "language": "python",
   "name": "python3"
  },
  "language_info": {
   "codemirror_mode": {
    "name": "ipython",
    "version": 3
   },
   "file_extension": ".py",
   "mimetype": "text/x-python",
   "name": "python",
   "nbconvert_exporter": "python",
   "pygments_lexer": "ipython3",
   "version": "3.6.8"
  }
 },
 "nbformat": 4,
 "nbformat_minor": 2
}
